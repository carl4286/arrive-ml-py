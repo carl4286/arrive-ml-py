{
 "cells": [
  {
   "cell_type": "raw",
   "metadata": {},
   "source": [
    "ML algorithms\n",
    "    Dimensionality reduction- eliminate reduntant variables, use as pre-processing before training regression algorithm\n",
    "    Random forest regression- use to actulally predict daily volumes\n",
    "    \n",
    "Deep Learning Models\n",
    "    Neural nets- similar application to random forest regression, but more computationally intensive, needs a lot more data"
   ]
  },
  {
   "cell_type": "raw",
   "metadata": {},
   "source": [
    "Import pre-generated CSV file with several colums\n",
    "    date (string)\n",
    "    arrive_num (int)\n",
    "    acuity_1 (int)\n",
    "    acuity_2 (int)\n",
    "    acuity_3 (int)\n",
    "    acuity_4 (int)\n",
    "    acuity_5 (int)\n",
    "    AWIND (int, average wind speed)\n",
    "    PRCP (int, inches precipitation)\n",
    "    TMAX (int, max temp)\n",
    "    TMIN (int, min temp)\n",
    "    \n",
    "Include or extrapolate the following\n",
    "    day_of_week (trig thing)\n",
    "    week_of_year (trig thing)\n",
    "    running_7d_avg (int)\n",
    "    holiday_dist (int)\n",
    "\n",
    "Optional future\n",
    "    temp (int)"
   ]
  },
  {
   "cell_type": "code",
   "execution_count": null,
   "metadata": {},
   "outputs": [],
   "source": [
    "# Import data\n",
    "import pandas as pd\n",
    "\n",
    "# Import raw data and preview contents\n",
    "raw_arrival_data = pd.read_csv(\"data/ruhs_arrivals_raw_data.csv\", parse_dates=['date'], infer_datetime_format=True)\n",
    "raw_weather_data = pd.read_csv(\"data/moval_weather.csv\", parse_dates=['DATE'], infer_datetime_format=True)\n",
    "\n",
    "# Add weather data, remove redundant date column\n",
    "raw_data = pd.merge(raw_arrival_data, raw_weather_data, left_on=['date'], right_on=['DATE'], how='inner')\n",
    "raw_data = raw_data.drop('DATE', axis = 1)\n",
    "\n",
    "print(raw_data.head(10))"
   ]
  },
  {
   "cell_type": "raw",
   "metadata": {},
   "source": [
    "Below is where to add derived features like running 7 day average volume"
   ]
  },
  {
   "cell_type": "code",
   "execution_count": null,
   "metadata": {},
   "outputs": [],
   "source": [
    "#import python-dateutil as dateutil\n",
    "import numpy as np\n",
    "from pandas.tseries.holiday import USFederalHolidayCalendar\n",
    "\n",
    "# Cyclic encodinf for day of week\n",
    "raw_data['date'] = pd.to_datetime(raw_data.date)\n",
    "raw_data['day_of_week'] = raw_data.date.dt.weekday\n",
    "\n",
    "raw_data['day_of_week_sin'] = np.sin(raw_data['day_of_week'] * (2 * np.pi / 7))\n",
    "raw_data['day_of_week_cos'] = np.cos(raw_data['day_of_week'] * (2 * np.pi / 7))\n",
    "\n",
    "raw_data = raw_data.drop('day_of_week', axis=1)\n",
    "\n",
    "# Cyclic encoding for week of year\n",
    "raw_data['week_of_year_sin'] = np.sin(raw_data['week_of_year'] * (2 * np.pi / 52))\n",
    "raw_data['week_of_year_cos'] = np.cos(raw_data['week_of_year'] * (2 * np.pi / 52))\n",
    "\n",
    "raw_data = raw_data.drop('week_of_year', axis=1)\n",
    "\n",
    "# Calculate running 7-day average\n",
    "arrive_nums = raw_data['arrive_num']\n",
    "running_7d_avg = []\n",
    "for i, arrivals in enumerate(arrive_nums):\n",
    "    prev_index = i-8\n",
    "    start_range = prev_index if prev_index >= 0 else 0\n",
    "    prev_7_days = arrive_nums[start_range : i]\n",
    "    if prev_7_days.empty : prev_7_days = [arrivals]\n",
    "    running_7d_avg.append(np.mean(prev_7_days))\n",
    "raw_data['running_7d_avg'] = running_7d_avg\n",
    "    \n",
    "# TODO: add distance from holiday\n",
    "holidays = np.array(USFederalHolidayCalendar().holidays(start='2022-01-02', end=pd.to_datetime(\"today\")))\n",
    "\n",
    "avail_dates = raw_data['date']\n",
    "is_before_holiday = []\n",
    "is_holiday = []\n",
    "is_after_holiday = []\n",
    "for date in avail_dates:\n",
    "    delta_from_holidays = np.datetime64(date) - holidays\n",
    "    days_from_holiday = [(x / np.timedelta64(1, 'D')) + 1 for x in delta_from_holidays]\n",
    "    smallest_delta = min(days_from_holiday, key=abs)\n",
    "    is_before_holiday.append(np.isclose(smallest_delta, -1.0))\n",
    "    is_holiday.append(np.isclose(smallest_delta, 0.0))\n",
    "    is_after_holiday.append(np.isclose(smallest_delta, 1.0))\n",
    "raw_data['is_before_holiday'] = is_before_holiday\n",
    "raw_data['is_holiday'] = is_holiday\n",
    "raw_data['is_after_holiday'] = is_after_holiday\n",
    "\n",
    "# Normalize temps\n",
    "raw_data['TMAX'] = raw_data['TMAX'] / raw_data['TMAX'].max()\n",
    "raw_data['TMIN'] = raw_data['TMIN'] / raw_data['TMIN'].max()\n",
    "\n",
    "print(raw_data.head(26))"
   ]
  },
  {
   "cell_type": "code",
   "execution_count": null,
   "metadata": {},
   "outputs": [],
   "source": [
    "# Drop date column, as we only need this to extrapolate other features, not to train model\n",
    "if not raw_data['date'].empty : raw_data = raw_data.drop('date', axis = 1)"
   ]
  },
  {
   "cell_type": "raw",
   "metadata": {},
   "source": [
    "Labels\n",
    "    arrive_num\n",
    "    acuity_1\n",
    "    acuity_2\n",
    "    acuity_3\n",
    "    acuity_4\n",
    "    acuity_5\n",
    "Features\n",
    "    day_of_week\n",
    "    week_of_year\n",
    "    running_7d_avg\n",
    "    holiday_dist\n",
    "    AWND\n",
    "    PRCP\n",
    "    TMAX\n",
    "    TMIN"
   ]
  },
  {
   "cell_type": "code",
   "execution_count": null,
   "metadata": {},
   "outputs": [],
   "source": [
    "# Define features and labels\n",
    "\n",
    "# Labels: values we want to predict\n",
    "labels = raw_data['arrive_num'] # Un-comment to predict total daily arrivals only\n",
    "#labels = raw_data[['arrive_num', 'acuity_1', 'acuity_2', 'acuity_3', 'acuity_4', 'acuity_5']] # Un-comment to predict arrivals and acuities\n",
    "print(labels)\n",
    "labels = np.array(labels)\n",
    "\n",
    "# Features: data that will train model, corresponds to input data when predicting labels\n",
    "features = raw_data[['week_of_year_sin', 'week_of_year_cos', 'AWND', 'PRCP', 'TMAX', 'TMIN', 'running_7d_avg', 'is_before_holiday', 'is_holiday', 'is_after_holiday', 'day_of_week_sin', 'day_of_week_cos']]\n",
    "print(features)\n",
    "feature_list = list(features.columns)\n",
    "\n",
    "features = np.array(features)"
   ]
  },
  {
   "cell_type": "raw",
   "metadata": {},
   "source": [
    "Next we split data into training and test sets"
   ]
  },
  {
   "cell_type": "code",
   "execution_count": null,
   "metadata": {},
   "outputs": [],
   "source": [
    "from sklearn.model_selection import train_test_split\n",
    "\n",
    "train_features, test_features, train_labels, test_labels = train_test_split(features, labels, test_size = 0.05)"
   ]
  },
  {
   "cell_type": "code",
   "execution_count": null,
   "metadata": {},
   "outputs": [],
   "source": [
    "print('Training Features Shape:', train_features.shape)\n",
    "print('Training Labels Shape:', train_labels.shape)\n",
    "print('Testing Features Shape:', test_features.shape)\n",
    "print('Testing Labels Shape:', test_labels.shape)"
   ]
  },
  {
   "cell_type": "raw",
   "metadata": {},
   "source": [
    "After importing and pre-processing data, train random forest regression model"
   ]
  },
  {
   "cell_type": "code",
   "execution_count": null,
   "metadata": {},
   "outputs": [],
   "source": [
    "# Train random forest regression model\n",
    "from sklearn.ensemble import RandomForestRegressor\n",
    "\n",
    "#Instantiate model\n",
    "arrive_rf = RandomForestRegressor(n_estimators = 200)\n",
    "\n",
    "#Train the model on training data\n",
    "arrive_rf.fit(train_features, train_labels)"
   ]
  },
  {
   "cell_type": "raw",
   "metadata": {},
   "source": [
    "Validate model, make predictions on test data"
   ]
  },
  {
   "cell_type": "code",
   "execution_count": null,
   "metadata": {},
   "outputs": [],
   "source": [
    "# Validate model\n",
    "predictions = arrive_rf.predict(test_features)\n",
    "print('Test Features:\\n', test_features, '\\n')\n",
    "print('Predictions:\\n', predictions, '\\n')\n",
    "print('Test Data:\\n', test_labels, '\\n')\n",
    "\n",
    "# Calculate mean absolute error\n",
    "errors = abs(predictions - test_labels)\n",
    "print('Absolute error table:\\n', errors.round(), '\\n')\n",
    "print('Mean absolute error:', round(np.mean(errors), 2), 'arrivals.')"
   ]
  },
  {
   "cell_type": "raw",
   "metadata": {},
   "source": [
    "Use mean absolute error to know if our model is effective\n",
    "\n",
    "See what variables our model is actually using to predict our labels"
   ]
  },
  {
   "cell_type": "code",
   "execution_count": null,
   "metadata": {},
   "outputs": [],
   "source": [
    "# Get numerical feature importances\n",
    "importances = list(arrive_rf.feature_importances_)\n",
    "\n",
    "# List of tuples with variable and importance\n",
    "feature_importances = [(feature, round(importance, 2)) for feature, importance in zip(feature_list, importances)]\n",
    "\n",
    "# Sort the feature importances by most important first\n",
    "feature_importances = sorted(feature_importances, key = lambda x: x[1], reverse = True)\n",
    "\n",
    "# Print out the feature and importances \n",
    "[print('Variable: {:20} Importance: {}'.format(*pair)) for pair in feature_importances];"
   ]
  },
  {
   "cell_type": "raw",
   "metadata": {},
   "source": [
    "Use info above to remove noise, retrain model"
   ]
  }
 ],
 "metadata": {
  "kernelspec": {
   "display_name": "Python 3",
   "language": "python",
   "name": "python3"
  },
  "language_info": {
   "codemirror_mode": {
    "name": "ipython",
    "version": 3
   },
   "file_extension": ".py",
   "mimetype": "text/x-python",
   "name": "python",
   "nbconvert_exporter": "python",
   "pygments_lexer": "ipython3",
   "version": "3.6.6+"
  }
 },
 "nbformat": 4,
 "nbformat_minor": 2
}
